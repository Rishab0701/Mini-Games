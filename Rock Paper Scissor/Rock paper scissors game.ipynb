{
 "cells": [
  {
   "cell_type": "markdown",
   "id": "20df3871",
   "metadata": {},
   "source": [
    "# ROCK PAPER SCISSORS"
   ]
  },
  {
   "cell_type": "markdown",
   "id": "5e94252a",
   "metadata": {},
   "source": [
    "### INSTRUCTIONS\n",
    "\n",
    "Only use number keys to play and control the game\n",
    "\n",
    "Press 1 to begin the game or to continue the game , Press any other number to end the game\n",
    "\n",
    "Enter a value from 0-2 which corresponds to rock , scissors and paper\n",
    "\n",
    "Wait for the computer to make its move\n",
    "\n",
    "Play as many times as you like"
   ]
  },
  {
   "cell_type": "markdown",
   "id": "d5504d91",
   "metadata": {},
   "source": [
    "#### This is a two player game \n",
    "Here you can play against the computer\n",
    "\n",
    "Are you ready to play then run the next cell\n"
   ]
  },
  {
   "cell_type": "code",
   "execution_count": null,
   "id": "90f3f23e",
   "metadata": {},
   "outputs": [],
   "source": [
    "import random\n",
    "# random is used so that opponent move can be generated randomly\n",
    "\n",
    "print(\"Welcome to the game of Rock,Paper,Scissors \\n\\n Press 1 to begin the game\")\n",
    "status = int(input())\n",
    "\n",
    "def value(user_ip):\n",
    "    if user_ip <0 or user_ip>2:\n",
    "        print('Enter only available positions ')\n",
    "        user_ip = int(input('PRESS \\n 0 for ROCK \\n 1 for SCISSOR \\n 2 for PAPER'))\n",
    "        value(user_ip)\n",
    "\n",
    "while status==1:\n",
    "    moves = ['rock','scissor','paper']\n",
    "    print('PRESS \\n 0 for ROCK \\n 1 for SCISSOR \\n 2 for PAPER\\n')\n",
    "    user_move_no = int(input())\n",
    "    user_move_no = value(user_move_no)\n",
    "    user_move = moves[user_move_no]\n",
    "    system_move_no = random.randrange(3)\n",
    "    system_move = moves[system_move_no]\n",
    "    \n",
    "    print(\"\\nYour move: \",user_move,\"\\nSystem move: \",system_move)\n",
    "    print('\\n\\n')\n",
    "    if user_move_no==system_move_no:\n",
    "        print('Its a Draw')\n",
    "    elif user_move_no < system_move_no or (user_move_no==2 and system_move_no==0):\n",
    "        print('You win\\n\\n')\n",
    "    else:\n",
    "        print('Oponent wins\\n\\n')\n",
    "        \n",
    "    print('Wanna a REMATCH enter 1 OR \\n Afraid of LOSING press any key to quit')\n",
    "    status = int(input())\n",
    "    "
   ]
  },
  {
   "cell_type": "code",
   "execution_count": null,
   "id": "016d3df0",
   "metadata": {},
   "outputs": [],
   "source": []
  }
 ],
 "metadata": {
  "kernelspec": {
   "display_name": "Python 3 (ipykernel)",
   "language": "python",
   "name": "python3"
  },
  "language_info": {
   "codemirror_mode": {
    "name": "ipython",
    "version": 3
   },
   "file_extension": ".py",
   "mimetype": "text/x-python",
   "name": "python",
   "nbconvert_exporter": "python",
   "pygments_lexer": "ipython3",
   "version": "3.9.7"
  }
 },
 "nbformat": 4,
 "nbformat_minor": 5
}
